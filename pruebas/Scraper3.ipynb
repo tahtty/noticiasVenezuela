{
 "cells": [
  {
   "cell_type": "code",
   "execution_count": null,
   "metadata": {},
   "outputs": [],
   "source": [
    "\"\"\"\"\n",
    "from scrapy.spiders import CrawlSpider, Rule\n",
    "from scrapy.linkextractors import LinkExtractor\n",
    "from scrapy.item import Item, Field\n",
    "\n",
    "\n",
    "class jobItem(Item):\n",
    "    titulo = Field()\n",
    "    empresa = Field()\n",
    "    n_eval = Field()\n",
    "\n",
    "class jobSpider(CrawlSpider):\n",
    "    name = \"spider jobs\"\n",
    "    allowed_domains=['indeed.com']\n",
    "    start_urls=['https://co.indeed.com/jobs?q=Big+Data&l=Bogotá']\n",
    "\n",
    "\n",
    "\n",
    "    def parse(self, response):\n",
    "        trabajos = response.xpath('//div[@class=\"result\"]').extract()\n",
    "\n",
    "\n",
    "        for trabajo in trabajos:\n",
    "            item=jobItem()\n",
    "\t    item[\"titulo\"]= trabajo.xpath('/h2/a/@title')\n",
    "\t    item[\"empresa\"]= trabajo.xpath('/span[@class=\"company\"]//text()')\n",
    "\t    tem[\"n_eval\"]= trabajo.xpath('//a/span[@class=\"slNoUnderline\"]/text()')\n",
    "\t    \n",
    "        yield item\n",
    "\"\"\"\"\n",
    "class BlogSpider(scrapy.Spider):\n",
    "    name = 'blogspider'\n",
    "    start_urls = ['https://blog.scrapinghub.com']\n",
    "\n",
    "    def parse(self, response):\n",
    "        for title in response.css('.post-header>h2'):\n",
    "            yield {'title': title.css('a ::text').get()}\n",
    "\n",
    "        for next_page in response.css('div.prev-post > a'):\n",
    "            yield response.follow(next_page, self.parse)"
   ]
  },
  {
   "cell_type": "code",
   "execution_count": null,
   "metadata": {},
   "outputs": [],
   "source": []
  }
 ],
 "metadata": {
  "kernelspec": {
   "display_name": "Python 3",
   "language": "python",
   "name": "python3"
  },
  "language_info": {
   "codemirror_mode": {
    "name": "ipython",
    "version": 3
   },
   "file_extension": ".py",
   "mimetype": "text/x-python",
   "name": "python",
   "nbconvert_exporter": "python",
   "pygments_lexer": "ipython3",
   "version": "3.6.5"
  }
 },
 "nbformat": 4,
 "nbformat_minor": 2
}
